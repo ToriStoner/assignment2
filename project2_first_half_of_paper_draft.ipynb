{
  "nbformat": 4,
  "nbformat_minor": 0,
  "metadata": {
    "colab": {
      "provenance": [],
      "authorship_tag": "ABX9TyNQczuFRHy6Vmw0MBQi2cVr",
      "include_colab_link": true
    },
    "kernelspec": {
      "name": "python3",
      "display_name": "Python 3"
    },
    "language_info": {
      "name": "python"
    }
  },
  "cells": [
    {
      "cell_type": "markdown",
      "metadata": {
        "id": "view-in-github",
        "colab_type": "text"
      },
      "source": [
        "<a href=\"https://colab.research.google.com/github/ToriStoner/assignment2/blob/main/project2_first_half_of_paper_draft.ipynb\" target=\"_parent\"><img src=\"https://colab.research.google.com/assets/colab-badge.svg\" alt=\"Open In Colab\"/></a>"
      ]
    },
    {
      "cell_type": "code",
      "execution_count": null,
      "metadata": {
        "id": "rikohKNBlmRG"
      },
      "outputs": [],
      "source": []
    },
    {
      "cell_type": "markdown",
      "source": [
        "Summary:\n",
        "\n",
        "The research question for this paper is which variables contribute to predicting the likelihood a person has a stroke. The aim is to create a predictive algorithm using these variables to be able to make predictions about one’s likelihood of having a stroke based on variables including age, health, and gender. The methods include the production of bar plots, box plots, and kernel density plots to analyze the relationship between various variables and stroke.\n",
        "\n",
        "** Add part about results/findings\n",
        "\n",
        "Data:\n",
        "\n",
        "This dataset is composed of many different variables that are evaluated to predict the likelihood that someone will have a stroke. The first variable included in this dataset is age which is a numeric variable that reflects the participants age. The numeric variable avg_glucose_level is a measure of blood sugar levels. The bmi variable is body mass index which is a value calculated using height and weight. The ever_married variable is of character type and is binary. The two potential responses for this variable are yes and no. Gender is also of character type with three potential values: male, female, other. The composition of the gender variable in the dataset is 41% male and 59% female which is important to consider when evaluating the gender variable. There are two dummy variables in the dataset: heart_disease and hypertension, which is having high blood pressure, that are used to indicate whether or not a patient has heart disease and/or hypertension. The ID variable is a representation of the study identification number. The Residence_type is a character variable with two responses: urban and rural to identify the area in which the patients live. Smoking_status is a categorical variable used to identify whether patients were former smokers, current smokers, or have never been a smoker. The work_type variable provides information about the patient's employment type. The potential responses for this variable are never_worked, children, govt_job, Private, and self-employed. The response children is used to represent homemakers, govt_job is public sector employment and private is private sector employment. The final variable in this dataset is stroke which indicates whether the patients suffered a stroke in the sample period. These variables were analyzed to evaluate their relationship to stroke to create a predictive model on the likelihood of a person experiencing a stroke.\n",
        "\n",
        "The primary variables of interest in this paper are the presence of hypertension, gender, smoking status, the presence of heart disease, age, body mass index, and the average glucose level. Each variable was plotted against stroke to more thoroughly investigate the relationship and see how it contributes to the likelihood of stroke. These variables were chosen as previous research has demonstrated that they are risk factors for stroke.\n",
        "\n",
        "** Below is Emily’s description of challenges\n",
        "\n",
        "There were a few minor issues when it came to reading, cleaning, and preparing the data for analysis. Firstly, trying to make sure that the data file was able to be read given the size of the file. Therefore, we decided to use low_memory=True in order to mitigate this when reading both CSV files. Another one of the issues with the data was figuring out what the “Unnamed: 0” and “id” columns meant. Ultimately, it was decided to get rid of these columns altogether in hopes of not having an ordering/sequencing issue for the model and analysis later. Next, we had to make sure to drop the outcome variable for this data, which was the ‘stroke’ column, so that our model could actually be used for prediction purposes. Next, a decision was made to drop the NaNs in the columns left over. There could’ve been another way to do this, such as using kNN to predict the values/replace them, but ultimately we decided instead to just drop them altogether as there weren’t that many and we felt there was enough data to perform our analysis. Following, it was decided to windsorize the numeric columns. This of course also had a trade-off, most notably another alternative would be to drop the values that were considered outliers. However, we decided against this in order to include more data in our analysis. Ergo, windsorizing was the course of action taken. Then, we created a new CSV file titled “training_cleaned.csv” for analysis. For the “testing_cleaning.csv” file that was created, the same decision to drop the  “Unnamed: 0” and “id” columns along with NaNs to be consistent for analysis. Moreover, we removed the outcome variable from the rest of the independent variables. The most notable difference therefore was not to windsorize the testing data in order to make sure it is good to compare for the model since there will be outliers the model could come across. Altogether, this was not a super difficult data set to clean, but there were some trade-offs that had to be made when cleaning and preparing the data for the model creation and subsequent analysis.\n",
        "\n",
        "\n",
        "KDE Plot and Bar plot stroke by Gender\n",
        "\n",
        "The above graphs are a representation of experienced stroke by gender in a kernel density plot and a bar plot. Both plots demonstrate that from this data there were no participants that selected other for their gender identification. The bar graph demonstrates that more female participants have experienced a stroke than male participants, with the count for female being higher by about 800. In the kernel density plot, 0 on the x axis represents not having experienced a stroke and 1 represents having experienced a stroke. The kernel density plot reflects the same trend, as more women experienced stroke than men as can be seen by the higher density.The kernel density plot also shows that more women than men in the dataset have not experienced a stroke. The plot demonstrates that more participants, both men and women, have not experienced a stroke. While both plots demonstrate that women are more likely to experience a stroke, it is important to note that there were more female participants than male participants in this dataset which has an influence on the representation of the data in the plots.\n",
        "\n",
        "\n",
        "KDE Plot stroke by smoking status\n",
        "\n",
        "Analysis: The above graph is a kernel density plot of stroke by smoking status. There are four potential responses for the smoking status variable: formerly smoked, never smoked, unknown, and currently smokes. The kernel density plot demonstrates that for people who have not experienced a stroke, which is represented as 0 on the x axis, the unknown group has had the least people experience strokes, followed by never smoked, formerly smoked and currently smokes. For people that have experienced a stroke, which is represented as 1 on the x axis, the group most likely to experience stroke was never smoked, then smokes, formerly smoked, and unknown. This is interesting because previous research has shown that smoking can increase the likelihood of experiencing a stroke but the data shows that people who had never smoked were more likely to experience a stroke than those who both were current smokers and former smokers. It is difficult to draw any conclusions about the unknown group because this category provides no additional information about the participants and their smoking history.\n",
        "\n",
        "KDE plot and bar plot stroke by hypertension\n",
        "\n",
        "The above graphs demonstrate the relationship between the presence of hypertension and experience of stroke. The bar graph demonstrates that a greater number of people have experienced a stroke if they did not have hypertension compared to if they did have hypertension. There is also a greater number of people who have hypertension and did not experience a stroke than experienced a stroke and had hypertension. A majority of the people in this dataset do not have hypertension and also have not experienced a stroke. From the kernel density plot, for those who have experienced a stroke, they were more likely to not have hypertension as the density is higher than for those who did have hypertension. Similarly to smoking status, these results are interesting because hypertension has previously been found to increase the likelihood of having a stroke but in this dataset people without hypertension experienced strokes more than those with hypertension.\n",
        "\n",
        "KDE plot and bar plot stroke by heart disease\n",
        "\n",
        "The above bar plot and kernel density plot represent the relationship between stroke and heart disease. From the bar plot it is clear that a majority of participants have not experienced a stroke or heart disease. For participants who have had a stroke, there is a higher number that did not have heart disease. There is also a higher number of participants that had heart disease and did not experience a stroke than had heart disease and experienced a stroke. This pattern is also reflected in the kernel density plot as those who did not have heart disease were more likely to experience a stroke than those who did have heart disease. In general, more of the participants did not have heart disease and also did not experience a stroke, but if they did experience a stroke they were more likely to not have heart disease.\n",
        "\n",
        "For three of the previously mentioned variables: heart disease, hypertension and smoking status, the results contradict previous research. Each of these variables has been identified as a risk factor for experiencing a stroke. According to the National Heart, Lung, and Blood Institute, factors that people can control account for 82%-92% of strokes: high blood pressure, obesity, physical inactivity, poor diet, and smoking. However, in this dataset each variable showed that people who did not have heart disease, hypertension and were non-smokers were more likely to experience a stroke than participants who did have heart disease, hypertension or smoked. It is interesting to think about what factors could have caused this pattern such as participants having other underlying health conditions that would make them more susceptible to stroke that increased their likelihood over other participants who also experienced risk factors. Other risk factors include: family history, anxiety, depression and high stress levels, and other medical conditions. These variables were not included in the dataset and could have contributed to the trends discovered in this dataset.\n",
        "\n",
        "\n",
        "Sources: https://www.nhlbi.nih.gov/health/stroke/causes\n"
      ],
      "metadata": {
        "id": "9sZQXgWClpfV"
      }
    }
  ]
}